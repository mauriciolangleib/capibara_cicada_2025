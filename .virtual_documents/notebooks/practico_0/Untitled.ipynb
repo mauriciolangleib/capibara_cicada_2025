from sklearn.datasets import load_breast_cancer


import seaborn as sns, pandas as pd


df = load_breast_cancer(as_frame = True)


df_canc = df.data


sns.histplot(df.target)


df_canc = df_canc.assign(malignant = df.target)


sns.clustermap(df_canc.assign(malignant = df.target).corr(), cmap = 'vlag', vmax = 1, vmin = -1)


sns.scatterplot(data = df_canc[['mean radius', 'mean concavity', 'texture error', 'malignant']],
                x = 'mean radius', y = 'texture error',
                hue = 'malignant')


sns.scatterplot(data = df_canc[['mean radius', 'mean concavity', 'texture error', 'malignant']],
                x = 'mean radius', y = 'texture error')


df[['mean_radius', 'mean_concavity', 'texture_error']]


fig = px.scatter_3d(
    df_canc,
    x="mean radius",
    y="mean concavity",
    z="texture error",
    color="malignant",
    opacity=0.75,
)
fig.update_traces(marker=dict(size=4))
fig.update_layout(
    scene=dict(
        xaxis_title="mean radius",
        yaxis_title="mean concavity",
        zaxis_title="texture error",
    ),
    width=900,   # <- increase width
    height=700   # <- increase height
)
fig.show()




